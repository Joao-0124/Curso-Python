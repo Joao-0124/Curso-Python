{
 "cells": [
  {
   "cell_type": "code",
   "execution_count": 5,
   "id": "d4eb46db",
   "metadata": {},
   "outputs": [],
   "source": [
    "import pyautogui"
   ]
  },
  {
   "cell_type": "code",
   "execution_count": 3,
   "id": "6f01cd07",
   "metadata": {
    "collapsed": true
   },
   "outputs": [
    {
     "data": {
      "text/plain": [
       "['DARWIN_CATCH_UP_TIME',\n",
       " 'FAILSAFE',\n",
       " 'FAILSAFE_POINTS',\n",
       " 'FailSafeException',\n",
       " 'G_LOG_SCREENSHOTS_FILENAMES',\n",
       " 'ImageNotFoundException',\n",
       " 'KEYBOARD_KEYS',\n",
       " 'KEY_NAMES',\n",
       " 'LEFT',\n",
       " 'LOG_SCREENSHOTS',\n",
       " 'LOG_SCREENSHOTS_LIMIT',\n",
       " 'MIDDLE',\n",
       " 'MINIMUM_DURATION',\n",
       " 'MINIMUM_SLEEP',\n",
       " 'PAUSE',\n",
       " 'PRIMARY',\n",
       " 'Point',\n",
       " 'PyAutoGUIException',\n",
       " 'QWERTY',\n",
       " 'QWERTZ',\n",
       " 'RIGHT',\n",
       " 'SECONDARY',\n",
       " 'Size',\n",
       " 'Window',\n",
       " '__builtins__',\n",
       " '__cached__',\n",
       " '__doc__',\n",
       " '__file__',\n",
       " '__loader__',\n",
       " '__name__',\n",
       " '__package__',\n",
       " '__path__',\n",
       " '__spec__',\n",
       " '__version__',\n",
       " '_bottom',\n",
       " '_couldNotImportPyGetWindow',\n",
       " '_genericPyAutoGUIChecks',\n",
       " '_getCommaToken',\n",
       " '_getNumberToken',\n",
       " '_getParensCommandStrToken',\n",
       " '_getQuotedStringToken',\n",
       " '_handlePause',\n",
       " '_logScreenshot',\n",
       " '_mouseMoveDrag',\n",
       " '_normalizeButton',\n",
       " '_normalizeXYArgs',\n",
       " '_pyautogui_win',\n",
       " '_right',\n",
       " '_runCommandList',\n",
       " '_snapshot',\n",
       " '_tokenizeCommandStr',\n",
       " 'absolute_import',\n",
       " 'alert',\n",
       " 'center',\n",
       " 'click',\n",
       " 'collections',\n",
       " 'collectionsSequence',\n",
       " 'confirm',\n",
       " 'contextmanager',\n",
       " 'countdown',\n",
       " 'datetime',\n",
       " 'displayMousePosition',\n",
       " 'division',\n",
       " 'doubleClick',\n",
       " 'drag',\n",
       " 'dragRel',\n",
       " 'dragTo',\n",
       " 'easeInBack',\n",
       " 'easeInBounce',\n",
       " 'easeInCirc',\n",
       " 'easeInCubic',\n",
       " 'easeInElastic',\n",
       " 'easeInExpo',\n",
       " 'easeInOutBack',\n",
       " 'easeInOutBounce',\n",
       " 'easeInOutCirc',\n",
       " 'easeInOutCubic',\n",
       " 'easeInOutElastic',\n",
       " 'easeInOutExpo',\n",
       " 'easeInOutQuad',\n",
       " 'easeInOutQuart',\n",
       " 'easeInOutQuint',\n",
       " 'easeInOutSine',\n",
       " 'easeInQuad',\n",
       " 'easeInQuart',\n",
       " 'easeInQuint',\n",
       " 'easeInSine',\n",
       " 'easeOutBack',\n",
       " 'easeOutBounce',\n",
       " 'easeOutCirc',\n",
       " 'easeOutCubic',\n",
       " 'easeOutElastic',\n",
       " 'easeOutExpo',\n",
       " 'easeOutQuad',\n",
       " 'easeOutQuart',\n",
       " 'easeOutQuint',\n",
       " 'easeOutSine',\n",
       " 'failSafeCheck',\n",
       " 'functools',\n",
       " 'getActiveWindow',\n",
       " 'getActiveWindowTitle',\n",
       " 'getAllTitles',\n",
       " 'getAllWindows',\n",
       " 'getInfo',\n",
       " 'getPointOnLine',\n",
       " 'getWindowsAt',\n",
       " 'getWindowsWithTitle',\n",
       " 'grab',\n",
       " 'hold',\n",
       " 'hotkey',\n",
       " 'hscroll',\n",
       " 'isShiftCharacter',\n",
       " 'isValidKey',\n",
       " 'keyDown',\n",
       " 'keyUp',\n",
       " 'leftClick',\n",
       " 'linear',\n",
       " 'locate',\n",
       " 'locateAll',\n",
       " 'locateAllOnScreen',\n",
       " 'locateCenterOnScreen',\n",
       " 'locateOnScreen',\n",
       " 'locateOnWindow',\n",
       " 'middleClick',\n",
       " 'mouseDown',\n",
       " 'mouseInfo',\n",
       " 'mouseUp',\n",
       " 'move',\n",
       " 'moveRel',\n",
       " 'moveTo',\n",
       " 'onScreen',\n",
       " 'os',\n",
       " 'password',\n",
       " 'pixel',\n",
       " 'pixelMatchesColor',\n",
       " 'platform',\n",
       " 'platformModule',\n",
       " 'position',\n",
       " 'press',\n",
       " 'printInfo',\n",
       " 'print_function',\n",
       " 'prompt',\n",
       " 'pyscreeze',\n",
       " 'raisePyAutoGUIImageNotFoundException',\n",
       " 're',\n",
       " 'rightClick',\n",
       " 'run',\n",
       " 'screenshot',\n",
       " 'scroll',\n",
       " 'size',\n",
       " 'sleep',\n",
       " 'sys',\n",
       " 'time',\n",
       " 'tripleClick',\n",
       " 'typewrite',\n",
       " 'useImageNotFoundException',\n",
       " 'vscroll',\n",
       " 'write']"
      ]
     },
     "execution_count": 3,
     "metadata": {},
     "output_type": "execute_result"
    }
   ],
   "source": [
    "dir(pyautogui)"
   ]
  },
  {
   "cell_type": "code",
   "execution_count": 11,
   "id": "b222eae9",
   "metadata": {},
   "outputs": [],
   "source": [
    "pyautogui.PAUSE = 2"
   ]
  },
  {
   "cell_type": "code",
   "execution_count": null,
   "id": "cb1bb32b",
   "metadata": {
    "collapsed": true
   },
   "outputs": [],
   "source": [
    "pyautogui.hotkey(\"win\")\n",
    "pyautogui.write(\"teste_login.xlsx\")\n",
    "pyautogui.press(\"enter\")"
   ]
  },
  {
   "cell_type": "code",
   "execution_count": 15,
   "id": "79b98c40",
   "metadata": {},
   "outputs": [],
   "source": [
    "pyautogui.keyDown(\"win\")\n",
    "# pyautogui.press(\"s\")\n",
    "pyautogui.keyUp(\"win\")"
   ]
  },
  {
   "cell_type": "code",
   "execution_count": 6,
   "id": "7cdec038",
   "metadata": {},
   "outputs": [
    {
     "data": {
      "text/plain": [
       "Point(x=-1005, y=662)"
      ]
     },
     "execution_count": 6,
     "metadata": {},
     "output_type": "execute_result"
    }
   ],
   "source": [
    "import time\n",
    "\n",
    "time.sleep(3)\n",
    "pyautogui.position()"
   ]
  },
  {
   "cell_type": "code",
   "execution_count": 7,
   "id": "e2bc97ca",
   "metadata": {
    "collapsed": true
   },
   "outputs": [
    {
     "ename": "SyntaxError",
     "evalue": "invalid syntax (<ipython-input-7-12a431b7b275>, line 2)",
     "output_type": "error",
     "traceback": [
      "\u001b[1;36m  File \u001b[1;32m\"<ipython-input-7-12a431b7b275>\"\u001b[1;36m, line \u001b[1;32m2\u001b[0m\n\u001b[1;33m    pyautogui.click((330. 580))\u001b[0m\n\u001b[1;37m                          ^\u001b[0m\n\u001b[1;31mSyntaxError\u001b[0m\u001b[1;31m:\u001b[0m invalid syntax\n"
     ]
    }
   ],
   "source": [
    "time.sleep(4)\n",
    "pyautogui.click((330. 580))"
   ]
  },
  {
   "cell_type": "code",
   "execution_count": 8,
   "id": "6d2bdeda",
   "metadata": {},
   "outputs": [
    {
     "data": {
      "text/plain": [
       "Size(width=1600, height=900)"
      ]
     },
     "execution_count": 8,
     "metadata": {},
     "output_type": "execute_result"
    }
   ],
   "source": [
    "pyautogui.size()"
   ]
  },
  {
   "cell_type": "code",
   "execution_count": 9,
   "id": "76242197",
   "metadata": {
    "collapsed": true
   },
   "outputs": [
    {
     "ename": "FileNotFoundError",
     "evalue": "[Errno 2] No such file or directory: 'C:\\\\Users\\\\Pichau\\\\inicie_sessao_gmail.png'",
     "output_type": "error",
     "traceback": [
      "\u001b[1;31m---------------------------------------------------------------------------\u001b[0m",
      "\u001b[1;31mFileNotFoundError\u001b[0m                         Traceback (most recent call last)",
      "\u001b[1;32m<ipython-input-9-93ce7ca43cd7>\u001b[0m in \u001b[0;36m<module>\u001b[1;34m\u001b[0m\n\u001b[1;32m----> 1\u001b[1;33m \u001b[0mpyautogui\u001b[0m\u001b[1;33m.\u001b[0m\u001b[0mlocateOnScreen\u001b[0m\u001b[1;33m(\u001b[0m\u001b[1;34m\"C:\\\\Users\\\\Pichau\\\\inicie_sessao_gmail.png\"\u001b[0m\u001b[1;33m)\u001b[0m\u001b[1;33m\u001b[0m\u001b[1;33m\u001b[0m\u001b[0m\n\u001b[0m",
      "\u001b[1;32m~\\anaconda3\\lib\\site-packages\\pyautogui\\__init__.py\u001b[0m in \u001b[0;36mwrapper\u001b[1;34m(*args, **kwargs)\u001b[0m\n\u001b[0;32m    173\u001b[0m     \u001b[1;32mdef\u001b[0m \u001b[0mwrapper\u001b[0m\u001b[1;33m(\u001b[0m\u001b[1;33m*\u001b[0m\u001b[0margs\u001b[0m\u001b[1;33m,\u001b[0m \u001b[1;33m**\u001b[0m\u001b[0mkwargs\u001b[0m\u001b[1;33m)\u001b[0m\u001b[1;33m:\u001b[0m\u001b[1;33m\u001b[0m\u001b[1;33m\u001b[0m\u001b[0m\n\u001b[0;32m    174\u001b[0m         \u001b[1;32mtry\u001b[0m\u001b[1;33m:\u001b[0m\u001b[1;33m\u001b[0m\u001b[1;33m\u001b[0m\u001b[0m\n\u001b[1;32m--> 175\u001b[1;33m             \u001b[1;32mreturn\u001b[0m \u001b[0mwrappedFunction\u001b[0m\u001b[1;33m(\u001b[0m\u001b[1;33m*\u001b[0m\u001b[0margs\u001b[0m\u001b[1;33m,\u001b[0m \u001b[1;33m**\u001b[0m\u001b[0mkwargs\u001b[0m\u001b[1;33m)\u001b[0m\u001b[1;33m\u001b[0m\u001b[1;33m\u001b[0m\u001b[0m\n\u001b[0m\u001b[0;32m    176\u001b[0m         \u001b[1;32mexcept\u001b[0m \u001b[0mpyscreeze\u001b[0m\u001b[1;33m.\u001b[0m\u001b[0mImageNotFoundException\u001b[0m\u001b[1;33m:\u001b[0m\u001b[1;33m\u001b[0m\u001b[1;33m\u001b[0m\u001b[0m\n\u001b[0;32m    177\u001b[0m             \u001b[1;32mraise\u001b[0m \u001b[0mImageNotFoundException\u001b[0m  \u001b[1;31m# Raise PyAutoGUI's ImageNotFoundException.\u001b[0m\u001b[1;33m\u001b[0m\u001b[1;33m\u001b[0m\u001b[0m\n",
      "\u001b[1;32m~\\anaconda3\\lib\\site-packages\\pyautogui\\__init__.py\u001b[0m in \u001b[0;36mlocateOnScreen\u001b[1;34m(*args, **kwargs)\u001b[0m\n\u001b[0;32m    211\u001b[0m     \u001b[1;33m@\u001b[0m\u001b[0mraisePyAutoGUIImageNotFoundException\u001b[0m\u001b[1;33m\u001b[0m\u001b[1;33m\u001b[0m\u001b[0m\n\u001b[0;32m    212\u001b[0m     \u001b[1;32mdef\u001b[0m \u001b[0mlocateOnScreen\u001b[0m\u001b[1;33m(\u001b[0m\u001b[1;33m*\u001b[0m\u001b[0margs\u001b[0m\u001b[1;33m,\u001b[0m \u001b[1;33m**\u001b[0m\u001b[0mkwargs\u001b[0m\u001b[1;33m)\u001b[0m\u001b[1;33m:\u001b[0m\u001b[1;33m\u001b[0m\u001b[1;33m\u001b[0m\u001b[0m\n\u001b[1;32m--> 213\u001b[1;33m         \u001b[1;32mreturn\u001b[0m \u001b[0mpyscreeze\u001b[0m\u001b[1;33m.\u001b[0m\u001b[0mlocateOnScreen\u001b[0m\u001b[1;33m(\u001b[0m\u001b[1;33m*\u001b[0m\u001b[0margs\u001b[0m\u001b[1;33m,\u001b[0m \u001b[1;33m**\u001b[0m\u001b[0mkwargs\u001b[0m\u001b[1;33m)\u001b[0m\u001b[1;33m\u001b[0m\u001b[1;33m\u001b[0m\u001b[0m\n\u001b[0m\u001b[0;32m    214\u001b[0m \u001b[1;33m\u001b[0m\u001b[0m\n\u001b[0;32m    215\u001b[0m     \u001b[0mlocateOnScreen\u001b[0m\u001b[1;33m.\u001b[0m\u001b[0m__doc__\u001b[0m \u001b[1;33m=\u001b[0m \u001b[0mpyscreeze\u001b[0m\u001b[1;33m.\u001b[0m\u001b[0mlocateOnScreen\u001b[0m\u001b[1;33m.\u001b[0m\u001b[0m__doc__\u001b[0m\u001b[1;33m\u001b[0m\u001b[1;33m\u001b[0m\u001b[0m\n",
      "\u001b[1;32m~\\anaconda3\\lib\\site-packages\\pyscreeze\\__init__.py\u001b[0m in \u001b[0;36mlocateOnScreen\u001b[1;34m(image, minSearchTime, **kwargs)\u001b[0m\n\u001b[0;32m    370\u001b[0m         \u001b[1;32mtry\u001b[0m\u001b[1;33m:\u001b[0m\u001b[1;33m\u001b[0m\u001b[1;33m\u001b[0m\u001b[0m\n\u001b[0;32m    371\u001b[0m             \u001b[0mscreenshotIm\u001b[0m \u001b[1;33m=\u001b[0m \u001b[0mscreenshot\u001b[0m\u001b[1;33m(\u001b[0m\u001b[0mregion\u001b[0m\u001b[1;33m=\u001b[0m\u001b[1;32mNone\u001b[0m\u001b[1;33m)\u001b[0m \u001b[1;31m# the locateAll() function must handle cropping to return accurate coordinates, so don't pass a region here.\u001b[0m\u001b[1;33m\u001b[0m\u001b[1;33m\u001b[0m\u001b[0m\n\u001b[1;32m--> 372\u001b[1;33m             \u001b[0mretVal\u001b[0m \u001b[1;33m=\u001b[0m \u001b[0mlocate\u001b[0m\u001b[1;33m(\u001b[0m\u001b[0mimage\u001b[0m\u001b[1;33m,\u001b[0m \u001b[0mscreenshotIm\u001b[0m\u001b[1;33m,\u001b[0m \u001b[1;33m**\u001b[0m\u001b[0mkwargs\u001b[0m\u001b[1;33m)\u001b[0m\u001b[1;33m\u001b[0m\u001b[1;33m\u001b[0m\u001b[0m\n\u001b[0m\u001b[0;32m    373\u001b[0m             \u001b[1;32mtry\u001b[0m\u001b[1;33m:\u001b[0m\u001b[1;33m\u001b[0m\u001b[1;33m\u001b[0m\u001b[0m\n\u001b[0;32m    374\u001b[0m                 \u001b[0mscreenshotIm\u001b[0m\u001b[1;33m.\u001b[0m\u001b[0mfp\u001b[0m\u001b[1;33m.\u001b[0m\u001b[0mclose\u001b[0m\u001b[1;33m(\u001b[0m\u001b[1;33m)\u001b[0m\u001b[1;33m\u001b[0m\u001b[1;33m\u001b[0m\u001b[0m\n",
      "\u001b[1;32m~\\anaconda3\\lib\\site-packages\\pyscreeze\\__init__.py\u001b[0m in \u001b[0;36mlocate\u001b[1;34m(needleImage, haystackImage, **kwargs)\u001b[0m\n\u001b[0;32m    350\u001b[0m     \u001b[1;31m# Note: The gymnastics in this function is because we want to make sure to exhaust the iterator so that the needle and haystack files are closed in locateAll.\u001b[0m\u001b[1;33m\u001b[0m\u001b[1;33m\u001b[0m\u001b[1;33m\u001b[0m\u001b[0m\n\u001b[0;32m    351\u001b[0m     \u001b[0mkwargs\u001b[0m\u001b[1;33m[\u001b[0m\u001b[1;34m'limit'\u001b[0m\u001b[1;33m]\u001b[0m \u001b[1;33m=\u001b[0m \u001b[1;36m1\u001b[0m\u001b[1;33m\u001b[0m\u001b[1;33m\u001b[0m\u001b[0m\n\u001b[1;32m--> 352\u001b[1;33m     \u001b[0mpoints\u001b[0m \u001b[1;33m=\u001b[0m \u001b[0mtuple\u001b[0m\u001b[1;33m(\u001b[0m\u001b[0mlocateAll\u001b[0m\u001b[1;33m(\u001b[0m\u001b[0mneedleImage\u001b[0m\u001b[1;33m,\u001b[0m \u001b[0mhaystackImage\u001b[0m\u001b[1;33m,\u001b[0m \u001b[1;33m**\u001b[0m\u001b[0mkwargs\u001b[0m\u001b[1;33m)\u001b[0m\u001b[1;33m)\u001b[0m\u001b[1;33m\u001b[0m\u001b[1;33m\u001b[0m\u001b[0m\n\u001b[0m\u001b[0;32m    353\u001b[0m     \u001b[1;32mif\u001b[0m \u001b[0mlen\u001b[0m\u001b[1;33m(\u001b[0m\u001b[0mpoints\u001b[0m\u001b[1;33m)\u001b[0m \u001b[1;33m>\u001b[0m \u001b[1;36m0\u001b[0m\u001b[1;33m:\u001b[0m\u001b[1;33m\u001b[0m\u001b[1;33m\u001b[0m\u001b[0m\n\u001b[0;32m    354\u001b[0m         \u001b[1;32mreturn\u001b[0m \u001b[0mpoints\u001b[0m\u001b[1;33m[\u001b[0m\u001b[1;36m0\u001b[0m\u001b[1;33m]\u001b[0m\u001b[1;33m\u001b[0m\u001b[1;33m\u001b[0m\u001b[0m\n",
      "\u001b[1;32m~\\anaconda3\\lib\\site-packages\\pyscreeze\\__init__.py\u001b[0m in \u001b[0;36m_locateAll_python\u001b[1;34m(needleImage, haystackImage, grayscale, limit, region, step, confidence)\u001b[0m\n\u001b[0;32m    259\u001b[0m     \u001b[1;32mif\u001b[0m \u001b[0misinstance\u001b[0m\u001b[1;33m(\u001b[0m\u001b[0mneedleImage\u001b[0m\u001b[1;33m,\u001b[0m \u001b[1;33m(\u001b[0m\u001b[0mstr\u001b[0m\u001b[1;33m,\u001b[0m \u001b[0municode\u001b[0m\u001b[1;33m)\u001b[0m\u001b[1;33m)\u001b[0m\u001b[1;33m:\u001b[0m\u001b[1;33m\u001b[0m\u001b[1;33m\u001b[0m\u001b[0m\n\u001b[0;32m    260\u001b[0m         \u001b[1;31m# 'image' is a filename, load the Image object\u001b[0m\u001b[1;33m\u001b[0m\u001b[1;33m\u001b[0m\u001b[1;33m\u001b[0m\u001b[0m\n\u001b[1;32m--> 261\u001b[1;33m         \u001b[0mneedleFileObj\u001b[0m \u001b[1;33m=\u001b[0m \u001b[0mopen\u001b[0m\u001b[1;33m(\u001b[0m\u001b[0mneedleImage\u001b[0m\u001b[1;33m,\u001b[0m \u001b[1;34m'rb'\u001b[0m\u001b[1;33m)\u001b[0m\u001b[1;33m\u001b[0m\u001b[1;33m\u001b[0m\u001b[0m\n\u001b[0m\u001b[0;32m    262\u001b[0m         \u001b[0mneedleImage\u001b[0m \u001b[1;33m=\u001b[0m \u001b[0mImage\u001b[0m\u001b[1;33m.\u001b[0m\u001b[0mopen\u001b[0m\u001b[1;33m(\u001b[0m\u001b[0mneedleFileObj\u001b[0m\u001b[1;33m)\u001b[0m\u001b[1;33m\u001b[0m\u001b[1;33m\u001b[0m\u001b[0m\n\u001b[0;32m    263\u001b[0m \u001b[1;33m\u001b[0m\u001b[0m\n",
      "\u001b[1;31mFileNotFoundError\u001b[0m: [Errno 2] No such file or directory: 'C:\\\\Users\\\\Pichau\\\\inicie_sessao_gmail.png'"
     ]
    }
   ],
   "source": [
    "pyautogui.locateOnScreen(\"C:\\\\Users\\\\Pichau\\\\inicie_sessao_gmail.png\")"
   ]
  },
  {
   "cell_type": "code",
   "execution_count": null,
   "id": "7eaeb5f8",
   "metadata": {},
   "outputs": [],
   "source": []
  }
 ],
 "metadata": {
  "kernelspec": {
   "display_name": "Python 3",
   "language": "python",
   "name": "python3"
  },
  "language_info": {
   "codemirror_mode": {
    "name": "ipython",
    "version": 3
   },
   "file_extension": ".py",
   "mimetype": "text/x-python",
   "name": "python",
   "nbconvert_exporter": "python",
   "pygments_lexer": "ipython3",
   "version": "3.8.8"
  }
 },
 "nbformat": 4,
 "nbformat_minor": 5
}
